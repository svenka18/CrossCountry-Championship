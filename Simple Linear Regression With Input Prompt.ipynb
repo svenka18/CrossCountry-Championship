{
 "cells": [
  {
   "cell_type": "markdown",
   "metadata": {},
   "source": [
    "<h3>This model for the XC Data uses linear regression - a simple and basic tool for prediction</h3>\n",
    "\n",
    "<p>Why linear regression?</p>\n",
    "<p><ul><li>\n",
    "\n",
    "    widely used\n",
    "    <li>runs fast\n",
    "    <li>easy to use (no tuning is required)\n",
    "    <li>highly interpretable\n",
    "    <li>basis for many other methods\n",
    "    </ul></p>\n",
    "    <p> The library used is Sci-kit Learn which facilitates general purpose machine learning in Python.</p>\n",
    "    <p> We will be using feature engineering to read in the race results (times) for a particular runner and format them depending on the number of results we want to use for training our model in a sliding window.  Here is some terminology:\n",
    "    <ul>\n",
    "    <li>Date Time Features: these are components of the time step itself for each observation.\n",
    "    <li>Lag Features: these are values at prior time steps.\n",
    "    <li>Window Features: these are a summary of values over a fixed window of prior time steps - we will enter the size.</ul></p>\n",
    "    \n",
    "    \n",
    "\n",
    "\n",
    "\n"
   ]
  },
  {
   "cell_type": "markdown",
   "metadata": {},
   "source": [
    "<h3>Evaluation Metrics</h3><p>\n",
    "\n",
    "We will use the Mean Absolute Percentage Error (MAPE). It is a metric widely used in the field of time series forecasting, and refers to the average percentage of errors in the forecasts, disregarding the direction (above or below the true value).\n",
    "</p><p>\n",
    "In addition to this error, we will also evaluate the Mean Absolute Error (MAE), which is the mean of the absolute values of the errors. This way we know how much we are deviating from the real values in the original units.  As a comparison, we will also show the Error from the Last month value where the forecast for the next month is just the value of the variable in the last month and the Moving Average Error where the forecast for the next month is the average of the last X times (based on window or forecast size).\n",
    "</p><p>\n",
    "From a practical standpoint, in order to justify the use of linear regression instead of simpler methods, it should present an average error smaller than the error of the other options.</p>"
   ]
  },
  {
   "cell_type": "markdown",
   "metadata": {},
   "source": [
    "<h3>You will be prompted to enter a runner id</h3><p>This will import all times available (data) from the complete file of XC times</p>"
   ]
  },
  {
   "cell_type": "code",
   "execution_count": 1,
   "metadata": {},
   "outputs": [
    {
     "name": "stderr",
     "output_type": "stream",
     "text": [
      "C:\\ProgramData\\Anaconda3\\lib\\site-packages\\sklearn\\cross_validation.py:44: DeprecationWarning: This module was deprecated in version 0.18 in favor of the model_selection module into which all the refactored classes and functions are moved. Also note that the interface of the new CV iterators are different from that of this module. This module will be removed in 0.20.\n",
      "  \"This module will be removed in 0.20.\", DeprecationWarning)\n"
     ]
    },
    {
     "name": "stdout",
     "output_type": "stream",
     "text": [
      "enter the runner ID  409571\n"
     ]
    }
   ],
   "source": [
    "# from sklearn.metrics import mean_absolute_error\n",
    "import numpy as np\n",
    "import pandas as pd\n",
    "from sklearn.linear_model import LinearRegression\n",
    "from sklearn.cross_validation import train_test_split\n",
    "from sklearn import metrics\n",
    "import statsmodels.formula.api as smf\n",
    "#sample id 409571\n",
    "#sample id 1039492\n",
    "id=int(input(\"enter the runner ID  \"))\n"
   ]
  },
  {
   "cell_type": "code",
   "execution_count": 3,
   "metadata": {},
   "outputs": [
    {
     "data": {
      "text/html": [
       "<div>\n",
       "<style>\n",
       "    .dataframe thead tr:only-child th {\n",
       "        text-align: right;\n",
       "    }\n",
       "\n",
       "    .dataframe thead th {\n",
       "        text-align: left;\n",
       "    }\n",
       "\n",
       "    .dataframe tbody tr th {\n",
       "        vertical-align: top;\n",
       "    }\n",
       "</style>\n",
       "<table border=\"1\" class=\"dataframe\">\n",
       "  <thead>\n",
       "    <tr style=\"text-align: right;\">\n",
       "      <th></th>\n",
       "      <th>ID1</th>\n",
       "      <th>ID</th>\n",
       "      <th>RunnerID</th>\n",
       "      <th>first</th>\n",
       "      <th>last</th>\n",
       "      <th>school</th>\n",
       "      <th>class_status_cat</th>\n",
       "      <th>class_status_num</th>\n",
       "      <th>time_sec</th>\n",
       "      <th>time_dec_min</th>\n",
       "      <th>...</th>\n",
       "      <th>county</th>\n",
       "      <th>ELEVATION</th>\n",
       "      <th>LATITUDE</th>\n",
       "      <th>LONGITUDE</th>\n",
       "      <th>HOURLYDRYBULBTEMPF</th>\n",
       "      <th>HOURLYRelativeHumidity</th>\n",
       "      <th>year</th>\n",
       "      <th>Temp_Celcius</th>\n",
       "      <th>Elevation_Cat</th>\n",
       "      <th>Dew_Point_Cat</th>\n",
       "    </tr>\n",
       "  </thead>\n",
       "  <tbody>\n",
       "    <tr>\n",
       "      <th>0</th>\n",
       "      <td>1</td>\n",
       "      <td>42776</td>\n",
       "      <td>185469</td>\n",
       "      <td>Justin</td>\n",
       "      <td>Swink</td>\n",
       "      <td>West Forsyth</td>\n",
       "      <td>Junior</td>\n",
       "      <td>3</td>\n",
       "      <td>1139.4</td>\n",
       "      <td>18.99</td>\n",
       "      <td>...</td>\n",
       "      <td>Guilford</td>\n",
       "      <td>271.3</td>\n",
       "      <td>36.09690</td>\n",
       "      <td>-79.94320</td>\n",
       "      <td>81.0</td>\n",
       "      <td>54.0</td>\n",
       "      <td>2010.0</td>\n",
       "      <td>27.22222222</td>\n",
       "      <td>2.0</td>\n",
       "      <td>3.0</td>\n",
       "    </tr>\n",
       "    <tr>\n",
       "      <th>1</th>\n",
       "      <td>2</td>\n",
       "      <td>46744</td>\n",
       "      <td>185469</td>\n",
       "      <td>Justin</td>\n",
       "      <td>Swink</td>\n",
       "      <td>West Forsyth</td>\n",
       "      <td>Junior</td>\n",
       "      <td>3</td>\n",
       "      <td>1025.0</td>\n",
       "      <td>17.08</td>\n",
       "      <td>...</td>\n",
       "      <td>New Hanover</td>\n",
       "      <td>10.1</td>\n",
       "      <td>34.26750</td>\n",
       "      <td>-77.89970</td>\n",
       "      <td>75.0</td>\n",
       "      <td>69.0</td>\n",
       "      <td>2010.0</td>\n",
       "      <td>23.88888889</td>\n",
       "      <td>1.0</td>\n",
       "      <td>3.0</td>\n",
       "    </tr>\n",
       "    <tr>\n",
       "      <th>2</th>\n",
       "      <td>3</td>\n",
       "      <td>57289</td>\n",
       "      <td>185469</td>\n",
       "      <td>Justin</td>\n",
       "      <td>Swink</td>\n",
       "      <td>West Forsyth</td>\n",
       "      <td>Junior</td>\n",
       "      <td>3</td>\n",
       "      <td>1038.9</td>\n",
       "      <td>17.32</td>\n",
       "      <td>...</td>\n",
       "      <td>Forsyth</td>\n",
       "      <td>295.7</td>\n",
       "      <td>36.13361</td>\n",
       "      <td>-80.22222</td>\n",
       "      <td>58.0</td>\n",
       "      <td>41.0</td>\n",
       "      <td>2010.0</td>\n",
       "      <td>14.44444444</td>\n",
       "      <td>2.0</td>\n",
       "      <td>1.0</td>\n",
       "    </tr>\n",
       "    <tr>\n",
       "      <th>3</th>\n",
       "      <td>4</td>\n",
       "      <td>59824</td>\n",
       "      <td>185469</td>\n",
       "      <td>Justin</td>\n",
       "      <td>Swink</td>\n",
       "      <td>West Forsyth</td>\n",
       "      <td>Junior</td>\n",
       "      <td>3</td>\n",
       "      <td>1066.0</td>\n",
       "      <td>17.77</td>\n",
       "      <td>...</td>\n",
       "      <td>Forsyth</td>\n",
       "      <td>295.7</td>\n",
       "      <td>36.13361</td>\n",
       "      <td>-80.22222</td>\n",
       "      <td>50.0</td>\n",
       "      <td>54.0</td>\n",
       "      <td>2010.0</td>\n",
       "      <td>10</td>\n",
       "      <td>2.0</td>\n",
       "      <td>1.0</td>\n",
       "    </tr>\n",
       "    <tr>\n",
       "      <th>4</th>\n",
       "      <td>5</td>\n",
       "      <td>62272</td>\n",
       "      <td>185469</td>\n",
       "      <td>Justin</td>\n",
       "      <td>Swink</td>\n",
       "      <td>West Forsyth</td>\n",
       "      <td>Junior</td>\n",
       "      <td>3</td>\n",
       "      <td>1064.0</td>\n",
       "      <td>17.73</td>\n",
       "      <td>...</td>\n",
       "      <td>Mecklenburg</td>\n",
       "      <td>221.9</td>\n",
       "      <td>35.22360</td>\n",
       "      <td>-80.95520</td>\n",
       "      <td>45.0</td>\n",
       "      <td>35.0</td>\n",
       "      <td>2010.0</td>\n",
       "      <td>7.222222222</td>\n",
       "      <td>1.0</td>\n",
       "      <td>1.0</td>\n",
       "    </tr>\n",
       "  </tbody>\n",
       "</table>\n",
       "<p>5 rows × 32 columns</p>\n",
       "</div>"
      ],
      "text/plain": [
       "   ID1     ID RunnerID   first   last        school class_status_cat  \\\n",
       "0    1  42776   185469  Justin  Swink  West Forsyth           Junior   \n",
       "1    2  46744   185469  Justin  Swink  West Forsyth           Junior   \n",
       "2    3  57289   185469  Justin  Swink  West Forsyth           Junior   \n",
       "3    4  59824   185469  Justin  Swink  West Forsyth           Junior   \n",
       "4    5  62272   185469  Justin  Swink  West Forsyth           Junior   \n",
       "\n",
       "   class_status_num  time_sec  time_dec_min      ...            county  \\\n",
       "0                 3    1139.4         18.99      ...          Guilford   \n",
       "1                 3    1025.0         17.08      ...       New Hanover   \n",
       "2                 3    1038.9         17.32      ...           Forsyth   \n",
       "3                 3    1066.0         17.77      ...           Forsyth   \n",
       "4                 3    1064.0         17.73      ...       Mecklenburg   \n",
       "\n",
       "  ELEVATION  LATITUDE LONGITUDE HOURLYDRYBULBTEMPF HOURLYRelativeHumidity  \\\n",
       "0     271.3  36.09690 -79.94320               81.0                   54.0   \n",
       "1      10.1  34.26750 -77.89970               75.0                   69.0   \n",
       "2     295.7  36.13361 -80.22222               58.0                   41.0   \n",
       "3     295.7  36.13361 -80.22222               50.0                   54.0   \n",
       "4     221.9  35.22360 -80.95520               45.0                   35.0   \n",
       "\n",
       "     year Temp_Celcius Elevation_Cat Dew_Point_Cat  \n",
       "0  2010.0  27.22222222           2.0           3.0  \n",
       "1  2010.0  23.88888889           1.0           3.0  \n",
       "2  2010.0  14.44444444           2.0           1.0  \n",
       "3  2010.0           10           2.0           1.0  \n",
       "4  2010.0  7.222222222           1.0           1.0  \n",
       "\n",
       "[5 rows x 32 columns]"
      ]
     },
     "execution_count": 3,
     "metadata": {},
     "output_type": "execute_result"
    }
   ],
   "source": [
    "#The entire file is read\n",
    "#This can be more efficient by removing features that this program does not use\n",
    "data = pd.read_csv('final_boys_modeling_8_4.csv',header=0, low_memory=False)\n",
    "\n",
    "data.head()"
   ]
  },
  {
   "cell_type": "markdown",
   "metadata": {},
   "source": [
    "<h3>How many total race results do we have for this runner?</h3>"
   ]
  },
  {
   "cell_type": "code",
   "execution_count": 4,
   "metadata": {},
   "outputs": [
    {
     "name": "stdout",
     "output_type": "stream",
     "text": [
      "0\n"
     ]
    }
   ],
   "source": [
    "filterDF=data[data['RunnerID']==id]\n",
    "row_count = len(filterDF.index)\n",
    "print (row_count)\n"
   ]
  },
  {
   "cell_type": "code",
   "execution_count": 5,
   "metadata": {},
   "outputs": [
    {
     "data": {
      "text/html": [
       "<div>\n",
       "<style>\n",
       "    .dataframe thead tr:only-child th {\n",
       "        text-align: right;\n",
       "    }\n",
       "\n",
       "    .dataframe thead th {\n",
       "        text-align: left;\n",
       "    }\n",
       "\n",
       "    .dataframe tbody tr th {\n",
       "        vertical-align: top;\n",
       "    }\n",
       "</style>\n",
       "<table border=\"1\" class=\"dataframe\">\n",
       "  <thead>\n",
       "    <tr style=\"text-align: right;\">\n",
       "      <th></th>\n",
       "      <th>DATE</th>\n",
       "      <th>time_sec</th>\n",
       "    </tr>\n",
       "  </thead>\n",
       "  <tbody>\n",
       "  </tbody>\n",
       "</table>\n",
       "</div>"
      ],
      "text/plain": [
       "Empty DataFrame\n",
       "Columns: [DATE, time_sec]\n",
       "Index: []"
      ]
     },
     "execution_count": 5,
     "metadata": {},
     "output_type": "execute_result"
    }
   ],
   "source": [
    "#we need to format the data in date time format\n",
    "modeldata=filterDF.filter(items=['DATE', 'time_sec'])\n",
    "modeldata.head()"
   ]
  },
  {
   "cell_type": "code",
   "execution_count": 38,
   "metadata": {},
   "outputs": [
    {
     "data": {
      "text/html": [
       "<div>\n",
       "<style>\n",
       "    .dataframe thead tr:only-child th {\n",
       "        text-align: right;\n",
       "    }\n",
       "\n",
       "    .dataframe thead th {\n",
       "        text-align: left;\n",
       "    }\n",
       "\n",
       "    .dataframe tbody tr th {\n",
       "        vertical-align: top;\n",
       "    }\n",
       "</style>\n",
       "<table border=\"1\" class=\"dataframe\">\n",
       "  <thead>\n",
       "    <tr style=\"text-align: right;\">\n",
       "      <th></th>\n",
       "      <th>DATE</th>\n",
       "      <th>time_sec</th>\n",
       "    </tr>\n",
       "  </thead>\n",
       "  <tbody>\n",
       "    <tr>\n",
       "      <th>6624</th>\n",
       "      <td>2013-08-30</td>\n",
       "      <td>978.51</td>\n",
       "    </tr>\n",
       "    <tr>\n",
       "      <th>6625</th>\n",
       "      <td>2012-09-25</td>\n",
       "      <td>1093.00</td>\n",
       "    </tr>\n",
       "    <tr>\n",
       "      <th>6626</th>\n",
       "      <td>2012-10-16</td>\n",
       "      <td>1044.10</td>\n",
       "    </tr>\n",
       "    <tr>\n",
       "      <th>6627</th>\n",
       "      <td>2012-09-11</td>\n",
       "      <td>1063.00</td>\n",
       "    </tr>\n",
       "    <tr>\n",
       "      <th>6628</th>\n",
       "      <td>2012-09-08</td>\n",
       "      <td>1011.00</td>\n",
       "    </tr>\n",
       "  </tbody>\n",
       "</table>\n",
       "</div>"
      ],
      "text/plain": [
       "           DATE  time_sec\n",
       "6624 2013-08-30    978.51\n",
       "6625 2012-09-25   1093.00\n",
       "6626 2012-10-16   1044.10\n",
       "6627 2012-09-11   1063.00\n",
       "6628 2012-09-08   1011.00"
      ]
     },
     "execution_count": 38,
     "metadata": {},
     "output_type": "execute_result"
    }
   ],
   "source": [
    "modeldata['DATE']=pd.to_datetime(modeldata.DATE)\n",
    "modeldata.head()"
   ]
  },
  {
   "cell_type": "code",
   "execution_count": 39,
   "metadata": {
    "collapsed": true
   },
   "outputs": [],
   "source": [
    "#lets make sure the dates are in order from earliest to latest\n",
    "sortedData=modeldata.sort_values(by='DATE')"
   ]
  },
  {
   "cell_type": "code",
   "execution_count": 40,
   "metadata": {},
   "outputs": [
    {
     "data": {
      "text/html": [
       "<div>\n",
       "<style>\n",
       "    .dataframe thead tr:only-child th {\n",
       "        text-align: right;\n",
       "    }\n",
       "\n",
       "    .dataframe thead th {\n",
       "        text-align: left;\n",
       "    }\n",
       "\n",
       "    .dataframe tbody tr th {\n",
       "        vertical-align: top;\n",
       "    }\n",
       "</style>\n",
       "<table border=\"1\" class=\"dataframe\">\n",
       "  <thead>\n",
       "    <tr style=\"text-align: right;\">\n",
       "      <th></th>\n",
       "      <th>DATE</th>\n",
       "      <th>time_sec</th>\n",
       "    </tr>\n",
       "  </thead>\n",
       "  <tbody>\n",
       "    <tr>\n",
       "      <th>6646</th>\n",
       "      <td>2010-09-08</td>\n",
       "      <td>1060.6</td>\n",
       "    </tr>\n",
       "    <tr>\n",
       "      <th>6648</th>\n",
       "      <td>2010-09-11</td>\n",
       "      <td>1073.0</td>\n",
       "    </tr>\n",
       "    <tr>\n",
       "      <th>6644</th>\n",
       "      <td>2010-09-14</td>\n",
       "      <td>1185.0</td>\n",
       "    </tr>\n",
       "    <tr>\n",
       "      <th>6647</th>\n",
       "      <td>2010-09-25</td>\n",
       "      <td>1107.1</td>\n",
       "    </tr>\n",
       "    <tr>\n",
       "      <th>6649</th>\n",
       "      <td>2010-10-02</td>\n",
       "      <td>1051.0</td>\n",
       "    </tr>\n",
       "  </tbody>\n",
       "</table>\n",
       "</div>"
      ],
      "text/plain": [
       "           DATE  time_sec\n",
       "6646 2010-09-08    1060.6\n",
       "6648 2010-09-11    1073.0\n",
       "6644 2010-09-14    1185.0\n",
       "6647 2010-09-25    1107.1\n",
       "6649 2010-10-02    1051.0"
      ]
     },
     "execution_count": 40,
     "metadata": {},
     "output_type": "execute_result"
    }
   ],
   "source": [
    "data = sortedData\n",
    "data.head()"
   ]
  },
  {
   "cell_type": "code",
   "execution_count": 41,
   "metadata": {},
   "outputs": [
    {
     "name": "stdout",
     "output_type": "stream",
     "text": [
      "Enter the number of race results you want to use for your prediction 2\n"
     ]
    }
   ],
   "source": [
    "##################### function\n",
    "#create the Mean Absolute Percent Error calculation function its not already\n",
    "#available in sci-kit learn\n",
    "def mape(y_pred,y_true):\n",
    "\n",
    "    return np.mean(np.abs((y_true - y_pred) / y_true)) * 100\n",
    "\n",
    "##################### end of function\n",
    "\n",
    "#here we are creating a feature matrix for prediction\n",
    "#you can change the number of races going in to the prediction\n",
    "#x values are the values used for the prediction in the training model\n",
    "#y values are the actual time that will be used in determining the error\n",
    "#of the prediction\n",
    "\n",
    "numtimes =int(input(\"Enter the number of race results you want to use for your prediction \"))\n"
   ]
  },
  {
   "cell_type": "code",
   "execution_count": 42,
   "metadata": {},
   "outputs": [
    {
     "data": {
      "text/plain": [
       "array([[ 1060.6 ,  1073.  ],\n",
       "       [ 1073.  ,  1185.  ],\n",
       "       [ 1185.  ,  1107.1 ],\n",
       "       [ 1107.1 ,  1051.  ],\n",
       "       [ 1051.  ,  1069.34],\n",
       "       [ 1069.34,  1073.03],\n",
       "       [ 1073.03,  1082.12],\n",
       "       [ 1082.12,  1054.21],\n",
       "       [ 1054.21,  1025.  ],\n",
       "       [ 1025.  ,  1043.78],\n",
       "       [ 1043.78,  1001.  ],\n",
       "       [ 1001.  ,  1037.94],\n",
       "       [ 1037.94,  1050.78],\n",
       "       [ 1050.78,  1000.  ],\n",
       "       [ 1000.  ,   993.6 ],\n",
       "       [  993.6 ,  1063.3 ],\n",
       "       [ 1063.3 ,  1011.  ],\n",
       "       [ 1011.  ,  1063.  ],\n",
       "       [ 1063.  ,  1093.  ],\n",
       "       [ 1093.  ,  1003.8 ],\n",
       "       [ 1003.8 ,   981.6 ],\n",
       "       [  981.6 ,  1044.1 ],\n",
       "       [ 1044.1 ,  1028.1 ],\n",
       "       [ 1028.1 ,  1015.8 ],\n",
       "       [ 1015.8 ,   995.  ],\n",
       "       [  995.  ,   978.51],\n",
       "       [  978.51,   947.3 ]])"
      ]
     },
     "execution_count": 42,
     "metadata": {},
     "output_type": "execute_result"
    }
   ],
   "source": [
    "data.head()\n",
    "\n",
    "x_data = []\n",
    "y_data = []\n",
    "\n",
    "# Creates a feature matrix with values from previous 2 races\n",
    "#for d in range(2,data.shape[0]):\n",
    "#    x = data.iloc[d-2:d,1].values.ravel()\n",
    "#    y = data.iloc[d].values[1]\n",
    "#    x_data.append(x)\n",
    "#    y_data.append(y)\n",
    "for d in range(numtimes,data.shape[0]):\n",
    "    x = data.iloc[d-numtimes:d,1].values.ravel()\n",
    "    y = data.iloc[d].values[1]\n",
    "    x_data.append(x)\n",
    "    y_data.append(y)\n",
    "\n",
    "x_data = np.array(x_data)\n",
    "y_data = np.array(y_data)\n",
    "x_data"
   ]
  },
  {
   "cell_type": "code",
   "execution_count": 43,
   "metadata": {},
   "outputs": [
    {
     "data": {
      "text/plain": [
       "array([ 1185.  ,  1107.1 ,  1051.  ,  1069.34,  1073.03,  1082.12,\n",
       "        1054.21,  1025.  ,  1043.78,  1001.  ,  1037.94,  1050.78,\n",
       "        1000.  ,   993.6 ,  1063.3 ,  1011.  ,  1063.  ,  1093.  ,\n",
       "        1003.8 ,   981.6 ,  1044.1 ,  1028.1 ,  1015.8 ,   995.  ,\n",
       "         978.51,   947.3 ,   987.17])"
      ]
     },
     "execution_count": 43,
     "metadata": {},
     "output_type": "execute_result"
    }
   ],
   "source": [
    "#the actual times that are used in calculating the\n",
    "#accuracy of the model - for example with 2 feature (time) windows\n",
    "#the 3rd is the first prediction\n",
    "y_data"
   ]
  },
  {
   "cell_type": "code",
   "execution_count": 44,
   "metadata": {},
   "outputs": [
    {
     "name": "stdout",
     "output_type": "stream",
     "text": [
      "\n",
      "Mean Absolute Percentage Error\n",
      "MAPE Linear Regression 5.1230685331\n",
      "MAPE Last Value Benchmark 3.22739271588\n",
      "MAPE Moving Average Benchmark 3.38616748767\n",
      "\n",
      "Mean Absolute Error\n",
      "MAE Linear Regression 52.7133408989\n",
      "MAE Last Value Benchmark 33.0972\n",
      "MAE Moving Average Benchmark 34.6788\n"
     ]
    }
   ],
   "source": [
    "#Lists to store the predictions of the models\n",
    "y_pred = []\n",
    "y_pred_last = []\n",
    "y_pred_ma = []\n",
    "y_true = []\n",
    "\n",
    "\n",
    "\n",
    "#Iterate over the time series creating a new model each month\n",
    "end = y_data.shape[0]\n",
    "#altered range from length to numtimes here\n",
    "for i in range(numtimes,end):\n",
    "\n",
    "    x_train = x_data[:i,:]\n",
    "    y_train = y_data[:i]\n",
    "    \n",
    "    x_test = x_data[i,:]\n",
    "    y_test = y_data[i]\n",
    "\n",
    "\n",
    "    model = LinearRegression(normalize=True)\n",
    "    model.fit(x_train,y_train)\n",
    "\n",
    "    y_pred.append(model.predict(x_test.reshape(1, -1))[0])\n",
    "    y_pred_last.append(x_test[-1])\n",
    "    y_pred_ma.append(x_test.mean())\n",
    "    y_true.append(y_test)\n",
    "\n",
    "\n",
    "#Transforms the lists into numpy arrays\n",
    "y_pred = np.array(y_pred)\n",
    "y_pred_last = np.array(y_pred_last)\n",
    "y_pred_ma = np.array(y_pred_ma)\n",
    "y_true = np.array(y_true)\n",
    "\n",
    "\n",
    "#Print errors\n",
    "print ('\\nMean Absolute Percentage Error')\n",
    "print ('MAPE Linear Regression', mape(y_pred,y_true))\n",
    "print ('MAPE Last Value Benchmark', mape(y_pred_last,y_true))\n",
    "print ('MAPE Moving Average Benchmark', mape(y_pred_ma,y_true))\n",
    "\n",
    "\n",
    "print ('\\nMean Absolute Error')\n",
    "print ('MAE Linear Regression', mean_absolute_error(y_pred,y_true))\n",
    "print ('MAE Last Value Benchmark', mean_absolute_error(y_pred_last,y_true))\n",
    "print ('MAE Moving Average Benchmark', mean_absolute_error(y_pred_ma,y_true))\n",
    "\n"
   ]
  },
  {
   "cell_type": "markdown",
   "metadata": {},
   "source": [
    "<h3>\n",
    "\n",
    "All of these are loss functions, because we want to minimize them.</h3>\n",
    "<p>Next we will see the intercept and the coefficients of the linear regression equation</p>"
   ]
  },
  {
   "cell_type": "code",
   "execution_count": 45,
   "metadata": {},
   "outputs": [
    {
     "name": "stdout",
     "output_type": "stream",
     "text": [
      "The linear equation intercept is \n",
      "469.570143169\n",
      "The coefficients are \n",
      "[ 0.00281001  0.54243758]\n"
     ]
    }
   ],
   "source": [
    "#to get the parameters for the equation - returned in the form of an array\n",
    "#Note that this is a linear equation, so to get the prediction for yourself, \n",
    "#you want to form an equation such that your prediction, \n",
    "#y = sum([input[i] * params[i]])\n",
    "#params = model.coef_ and model.intercept\n",
    "print (\"The linear equation intercept is \")\n",
    "print (model.intercept_)\n",
    "print (\"The coefficients are \")\n",
    "print (model.coef_)"
   ]
  },
  {
   "cell_type": "code",
   "execution_count": 46,
   "metadata": {},
   "outputs": [
    {
     "data": {
      "image/png": "[encoded data removed]",
      "text/plain": [
       "<matplotlib.figure.Figure at 0x1406a3d0c88>"
      ]
     },
     "metadata": {},
     "output_type": "display_data"
    }
   ],
   "source": [
    "#print chart\n",
    "from matplotlib import pyplot as plt\n",
    "plt.title('Runner Times for XC')\n",
    "plt.ylabel('Time in Sec')\n",
    "plt.xlabel(u'Periods (Meets)')\n",
    "reg_val, = plt.plot(y_pred,color='b',label=u'Linear Regression')\n",
    "true_val, = plt.plot(y_true,color='g', label='True Values')\n",
    "plt.xlim([0,row_count])\n",
    "plt.legend(handles=[true_val,reg_val])\n",
    "plt.show()"
   ]
  },
  {
   "cell_type": "markdown",
   "metadata": {},
   "source": [
    "<h3>Let's try a new prediction</h3>"
   ]
  },
  {
   "cell_type": "code",
   "execution_count": 53,
   "metadata": {},
   "outputs": [
    {
     "name": "stdout",
     "output_type": "stream",
     "text": [
      "The last two times for runner_id 1039492 are: 978, 947\n",
      "enter the first time in seconds with no decimals and press enter  978\n",
      "enter the first time in seconds with no decimals and press enter  947\n",
      "Your time for your next race is estimated to be \n",
      "[ 986.00672106]\n",
      " seconds\n"
     ]
    }
   ],
   "source": [
    "### New Prediction ###\n",
    "\n",
    "# predict for a new observation, this uses a two cell floating window\n",
    "print (\"The last two times for runner_id 1039492 are: 978, 947\")\n",
    "time1 =int(input(\"enter the first time in seconds with no decimals and press enter  \"))\n",
    "time2 =int(input(\"enter the first time in seconds with no decimals and press enter  \"))\n",
    "new_X = np.array([time1, time2])\n",
    "new_prediction = model.predict(new_X.reshape(1, -1))\n",
    "print (\"Your time for your next race is estimated to be \")\n",
    "print (new_prediction)\n",
    "print (\" seconds\")"
   ]
  },
  {
   "cell_type": "markdown",
   "metadata": {},
   "source": [
    "\n",
    "<h3>Comparing linear regression with other models</h3>\n",
    "\n",
    "<p>Advantages of linear regression:<br>\n",
    "<ul><li>\n",
    "    Simple to explain\n",
    "    <li>Highly interpretable\n",
    "    <li>Model training and prediction are fast\n",
    "    <li>No tuning is required (excluding regularization)\n",
    "    <li>Features don't need scaling\n",
    "    <li>Can perform well with a small number of observations which we have when inputting one runner at a time</ul>\n",
    "\n",
    "</p><p>Disadvantages of linear regression:<br>\n",
    "<ul><li>\n",
    "    Presumes a linear relationship between the features and the response\n",
    "    <li>Performance is (generally) not competitive with the best supervised learning methods due to high bias\n",
    "   <li> Sensitive to irrelevant features - we are only use time in this simple model\n",
    "   <li> Can't automatically learn feature interactions</u></p>\n",
    "\n"
   ]
  },
  {
   "cell_type": "markdown",
   "metadata": {
    "collapsed": true
   },
   "source": [
    "<p>References:</p>\n",
    "<p><a href=\"http://scikit-learn.org/stable/auto_examples/linear_model/plot_ols.html#sphx-glr-auto-examples-linear-model-plot-ols-py\">Scikit-Learn</a></p>\n",
    "<p><a href=\"http://machinelearningmastery.com/basic-feature-engineering-time-series-data-python/\">Machine Learning Mastery</a>\n",
    "</p>"
   ]
  },
  {
   "cell_type": "code",
   "execution_count": null,
   "metadata": {
    "collapsed": true
   },
   "outputs": [],
   "source": []
  }
 ],
 "metadata": {
  "kernelspec": {
   "display_name": "Python 3",
   "language": "python",
   "name": "python3"
  },
  "language_info": {
   "codemirror_mode": {
    "name": "ipython",
    "version": 3
   },
   "file_extension": ".py",
   "mimetype": "text/x-python",
   "name": "python",
   "nbconvert_exporter": "python",
   "pygments_lexer": "ipython3",
   "version": "3.6.1"
  }
 },
 "nbformat": 4,
 "nbformat_minor": 2
}

{
 "cells": [
  {
   "cell_type": "code",
   "execution_count": 1,
   "metadata": {
    "collapsed": true
   },
   "outputs": [],
   "source": [
    "### importing libraries\n",
    "import pandas as pd\n",
    "import numpy as np\n",
    "from sklearn import linear_model"
   ]
  },
  {
   "cell_type": "markdown",
   "metadata": {},
   "source": [
    "#### To load a new data set and predict a given  meet using that data set\n",
    "###### ----These steps are not needed if test set and training set is already avaiable----\n",
    "###### ---- Start----"
   ]
  },
  {
   "cell_type": "code",
   "execution_count": 3,
   "metadata": {
    "collapsed": true
   },
   "outputs": [],
   "source": [
    "## loading the dataset\n",
    "dataset = pd.read_csv('/Users/VP/Downloads/final_boys_modelling_days_bet.csv')"
   ]
  },
  {
   "cell_type": "code",
   "execution_count": 45,
   "metadata": {
    "collapsed": true
   },
   "outputs": [],
   "source": [
    "### fixing the runner id problem in the data set\n",
    "#dataset['RunnerID_1'] = dataset['RunnerID'].str.split(\"-\").str[0]\n",
    "#dataset['RunnerID_1'].fillna(dataset['RunnerID'],inplace = True)\n",
    "#dataset['RunnerID_1']\n",
    "#dataset = dataset.drop('RunnerID',axis = 1)\n",
    "#dataset = dataset.rename(columns ={ 'RunnerID_1' :'RunnerID'})\n",
    "## converting the classification as categor\n",
    " \n",
    "dataset['Classification'] = dataset['Classification'].astype(\"category\")\n",
    "dataset['Classification_cat'] = dataset['Classification'].cat.codes\n"
   ]
  },
  {
   "cell_type": "code",
   "execution_count": 5,
   "metadata": {
    "collapsed": true
   },
   "outputs": [],
   "source": [
    "## creatin the validation dataset - containing one meet\n",
    "## since we need to calculate students performance for one meet, we are removing a particular meet as validation (test set)\n",
    "## this meet has around 163 participants. \n",
    "validation = dataset[(dataset['DATE'] == '10/10/15') & (dataset['meet'] == 'NCRunners Elite Cross Country Invitational')]\n"
   ]
  },
  {
   "cell_type": "code",
   "execution_count": 6,
   "metadata": {},
   "outputs": [
    {
     "data": {
      "text/html": [
       "<div>\n",
       "<style>\n",
       "    .dataframe thead tr:only-child th {\n",
       "        text-align: right;\n",
       "    }\n",
       "\n",
       "    .dataframe thead th {\n",
       "        text-align: left;\n",
       "    }\n",
       "\n",
       "    .dataframe tbody tr th {\n",
       "        vertical-align: top;\n",
       "    }\n",
       "</style>\n",
       "<table border=\"1\" class=\"dataframe\">\n",
       "  <thead>\n",
       "    <tr style=\"text-align: right;\">\n",
       "      <th></th>\n",
       "      <th>ID</th>\n",
       "      <th>RunnerID</th>\n",
       "      <th>first</th>\n",
       "      <th>last</th>\n",
       "      <th>school</th>\n",
       "      <th>class_status_cat</th>\n",
       "      <th>class_status_num</th>\n",
       "      <th>time_sec</th>\n",
       "      <th>time_dec_min</th>\n",
       "      <th>Classification</th>\n",
       "      <th>...</th>\n",
       "      <th>LONGITUDE</th>\n",
       "      <th>HOURLYDRYBULBTEMPF</th>\n",
       "      <th>HOURLYRelativeHumidity</th>\n",
       "      <th>year</th>\n",
       "      <th>Temp_Celcius</th>\n",
       "      <th>Dew_Point_Celc</th>\n",
       "      <th>Elevation_Cat</th>\n",
       "      <th>Dew_Point_Cat</th>\n",
       "      <th>Days_Bet_Races</th>\n",
       "      <th>Classification_cat</th>\n",
       "    </tr>\n",
       "  </thead>\n",
       "  <tbody>\n",
       "    <tr>\n",
       "      <th>2</th>\n",
       "      <td>25205</td>\n",
       "      <td>111706</td>\n",
       "      <td>Chase</td>\n",
       "      <td>Shermer</td>\n",
       "      <td>North Raleigh Christian Academy</td>\n",
       "      <td>Junior</td>\n",
       "      <td>3</td>\n",
       "      <td>1042.00</td>\n",
       "      <td>17.367</td>\n",
       "      <td>3A</td>\n",
       "      <td>...</td>\n",
       "      <td>-78.7819</td>\n",
       "      <td>66.0</td>\n",
       "      <td>26.0</td>\n",
       "      <td>2010.0</td>\n",
       "      <td>18.88888889</td>\n",
       "      <td>-1.044245964</td>\n",
       "      <td>1</td>\n",
       "      <td>1.0</td>\n",
       "      <td>27</td>\n",
       "      <td>2</td>\n",
       "    </tr>\n",
       "    <tr>\n",
       "      <th>3</th>\n",
       "      <td>16296</td>\n",
       "      <td>111706</td>\n",
       "      <td>Chase</td>\n",
       "      <td>Shermer</td>\n",
       "      <td>North Raleigh Christian Academy</td>\n",
       "      <td>Junior</td>\n",
       "      <td>3</td>\n",
       "      <td>1048.00</td>\n",
       "      <td>17.467</td>\n",
       "      <td>3A</td>\n",
       "      <td>...</td>\n",
       "      <td>-82.5375</td>\n",
       "      <td>60.0</td>\n",
       "      <td>19.0</td>\n",
       "      <td>2010.0</td>\n",
       "      <td>15.55555556</td>\n",
       "      <td>-8.007984925</td>\n",
       "      <td>3</td>\n",
       "      <td>1.0</td>\n",
       "      <td>7</td>\n",
       "      <td>2</td>\n",
       "    </tr>\n",
       "    <tr>\n",
       "      <th>4</th>\n",
       "      <td>65000</td>\n",
       "      <td>111706</td>\n",
       "      <td>Chase</td>\n",
       "      <td>Shermer</td>\n",
       "      <td>North Raleigh Christian Academy</td>\n",
       "      <td>Junior</td>\n",
       "      <td>3</td>\n",
       "      <td>1003.37</td>\n",
       "      <td>16.723</td>\n",
       "      <td>3A</td>\n",
       "      <td>...</td>\n",
       "      <td>-79.9432</td>\n",
       "      <td>43.0</td>\n",
       "      <td>42.0</td>\n",
       "      <td>2010.0</td>\n",
       "      <td>6.111111111</td>\n",
       "      <td>-5.856571325</td>\n",
       "      <td>2</td>\n",
       "      <td>1.0</td>\n",
       "      <td>9</td>\n",
       "      <td>2</td>\n",
       "    </tr>\n",
       "    <tr>\n",
       "      <th>5</th>\n",
       "      <td>62270</td>\n",
       "      <td>111706</td>\n",
       "      <td>Chase</td>\n",
       "      <td>Shermer</td>\n",
       "      <td>North Raleigh Christian Academy</td>\n",
       "      <td>Junior</td>\n",
       "      <td>3</td>\n",
       "      <td>1048.00</td>\n",
       "      <td>17.467</td>\n",
       "      <td>3A</td>\n",
       "      <td>...</td>\n",
       "      <td>-80.9552</td>\n",
       "      <td>45.0</td>\n",
       "      <td>35.0</td>\n",
       "      <td>2010.0</td>\n",
       "      <td>7.222222222</td>\n",
       "      <td>-7.240404938</td>\n",
       "      <td>1</td>\n",
       "      <td>1.0</td>\n",
       "      <td>20</td>\n",
       "      <td>2</td>\n",
       "    </tr>\n",
       "    <tr>\n",
       "      <th>6</th>\n",
       "      <td>56855</td>\n",
       "      <td>111706</td>\n",
       "      <td>Chase</td>\n",
       "      <td>Shermer</td>\n",
       "      <td>North Raleigh Christian Academy</td>\n",
       "      <td>Senior</td>\n",
       "      <td>4</td>\n",
       "      <td>1025.00</td>\n",
       "      <td>17.083</td>\n",
       "      <td>3A</td>\n",
       "      <td>...</td>\n",
       "      <td>-80.9552</td>\n",
       "      <td>80.0</td>\n",
       "      <td>76.0</td>\n",
       "      <td>2011.0</td>\n",
       "      <td>26.66666667</td>\n",
       "      <td>22.08547276</td>\n",
       "      <td>1</td>\n",
       "      <td>5.0</td>\n",
       "      <td>280</td>\n",
       "      <td>2</td>\n",
       "    </tr>\n",
       "  </tbody>\n",
       "</table>\n",
       "<p>5 rows × 34 columns</p>\n",
       "</div>"
      ],
      "text/plain": [
       "      ID  RunnerID  first     last                           school  \\\n",
       "2  25205    111706  Chase  Shermer  North Raleigh Christian Academy   \n",
       "3  16296    111706  Chase  Shermer  North Raleigh Christian Academy   \n",
       "4  65000    111706  Chase  Shermer  North Raleigh Christian Academy   \n",
       "5  62270    111706  Chase  Shermer  North Raleigh Christian Academy   \n",
       "6  56855    111706  Chase  Shermer  North Raleigh Christian Academy   \n",
       "\n",
       "  class_status_cat  class_status_num  time_sec  time_dec_min Classification  \\\n",
       "2           Junior                 3   1042.00        17.367             3A   \n",
       "3           Junior                 3   1048.00        17.467             3A   \n",
       "4           Junior                 3   1003.37        16.723             3A   \n",
       "5           Junior                 3   1048.00        17.467             3A   \n",
       "6           Senior                 4   1025.00        17.083             3A   \n",
       "\n",
       "         ...         LONGITUDE HOURLYDRYBULBTEMPF HOURLYRelativeHumidity  \\\n",
       "2        ...          -78.7819               66.0                   26.0   \n",
       "3        ...          -82.5375               60.0                   19.0   \n",
       "4        ...          -79.9432               43.0                   42.0   \n",
       "5        ...          -80.9552               45.0                   35.0   \n",
       "6        ...          -80.9552               80.0                   76.0   \n",
       "\n",
       "     year Temp_Celcius Dew_Point_Celc Elevation_Cat Dew_Point_Cat  \\\n",
       "2  2010.0  18.88888889   -1.044245964             1           1.0   \n",
       "3  2010.0  15.55555556   -8.007984925             3           1.0   \n",
       "4  2010.0  6.111111111   -5.856571325             2           1.0   \n",
       "5  2010.0  7.222222222   -7.240404938             1           1.0   \n",
       "6  2011.0  26.66666667    22.08547276             1           5.0   \n",
       "\n",
       "  Days_Bet_Races Classification_cat  \n",
       "2             27                  2  \n",
       "3              7                  2  \n",
       "4              9                  2  \n",
       "5             20                  2  \n",
       "6            280                  2  \n",
       "\n",
       "[5 rows x 34 columns]"
      ]
     },
     "execution_count": 6,
     "metadata": {},
     "output_type": "execute_result"
    }
   ],
   "source": [
    "## removing the validation data frm the training dataset\n",
    "dataset2 = dataset.drop((dataset['DATE'] == '10/10/15') & (dataset['meet'] == 'NCRunners Elite Cross Country Invitational'))\n",
    "#dataset2 = pd.merge(dataset,validation[['RunnerID']],on = \"RunnerID\")\n",
    "dataset2.head()"
   ]
  },
  {
   "cell_type": "markdown",
   "metadata": {},
   "source": [
    "#### get the mean time, std deviation time  and min time for each player in the dataset"
   ]
  },
  {
   "cell_type": "code",
   "execution_count": 7,
   "metadata": {},
   "outputs": [
    {
     "name": "stderr",
     "output_type": "stream",
     "text": [
      "/anaconda/lib/python2.7/site-packages/pandas/core/groupby.py:3961: FutureWarning: using a dict with renaming is deprecated and will be removed in a future version\n",
      "  return super(DataFrameGroupBy, self).aggregate(arg, *args, **kwargs)\n"
     ]
    },
    {
     "data": {
      "text/html": [
       "<div>\n",
       "<style>\n",
       "    .dataframe thead tr:only-child th {\n",
       "        text-align: right;\n",
       "    }\n",
       "\n",
       "    .dataframe thead th {\n",
       "        text-align: left;\n",
       "    }\n",
       "\n",
       "    .dataframe tbody tr th {\n",
       "        vertical-align: top;\n",
       "    }\n",
       "</style>\n",
       "<table border=\"1\" class=\"dataframe\">\n",
       "  <thead>\n",
       "    <tr>\n",
       "      <th></th>\n",
       "      <th>RunnerID</th>\n",
       "      <th colspan=\"3\" halign=\"left\">time_sec</th>\n",
       "    </tr>\n",
       "    <tr>\n",
       "      <th></th>\n",
       "      <th></th>\n",
       "      <th>time_sec_mean</th>\n",
       "      <th>time_sec_std</th>\n",
       "      <th>time_sec_min</th>\n",
       "    </tr>\n",
       "  </thead>\n",
       "  <tbody>\n",
       "    <tr>\n",
       "      <th>0</th>\n",
       "      <td>111706</td>\n",
       "      <td>1032.342308</td>\n",
       "      <td>39.013504</td>\n",
       "      <td>977.3</td>\n",
       "    </tr>\n",
       "    <tr>\n",
       "      <th>1</th>\n",
       "      <td>131372</td>\n",
       "      <td>1055.966667</td>\n",
       "      <td>22.810347</td>\n",
       "      <td>1020.4</td>\n",
       "    </tr>\n",
       "    <tr>\n",
       "      <th>2</th>\n",
       "      <td>180821</td>\n",
       "      <td>1055.176923</td>\n",
       "      <td>27.132243</td>\n",
       "      <td>1016.0</td>\n",
       "    </tr>\n",
       "    <tr>\n",
       "      <th>3</th>\n",
       "      <td>185469</td>\n",
       "      <td>1049.569231</td>\n",
       "      <td>34.929653</td>\n",
       "      <td>1010.0</td>\n",
       "    </tr>\n",
       "    <tr>\n",
       "      <th>4</th>\n",
       "      <td>236627</td>\n",
       "      <td>1133.153077</td>\n",
       "      <td>44.344666</td>\n",
       "      <td>1060.4</td>\n",
       "    </tr>\n",
       "  </tbody>\n",
       "</table>\n",
       "</div>"
      ],
      "text/plain": [
       "  RunnerID      time_sec                          \n",
       "           time_sec_mean time_sec_std time_sec_min\n",
       "0   111706   1032.342308    39.013504        977.3\n",
       "1   131372   1055.966667    22.810347       1020.4\n",
       "2   180821   1055.176923    27.132243       1016.0\n",
       "3   185469   1049.569231    34.929653       1010.0\n",
       "4   236627   1133.153077    44.344666       1060.4"
      ]
     },
     "execution_count": 7,
     "metadata": {},
     "output_type": "execute_result"
    }
   ],
   "source": [
    "### getting the minimum time , average and std of each player in the data set\n",
    "timedetails = dataset2.groupby(['RunnerID']).agg({'time_sec':{\"time_sec_min\":\"min\",\"time_sec_mean\" :\"mean\",\"time_sec_std\" : \"std\"}}).reset_index()\n",
    "timedetails.head()"
   ]
  },
  {
   "cell_type": "code",
   "execution_count": 8,
   "metadata": {},
   "outputs": [
    {
     "name": "stderr",
     "output_type": "stream",
     "text": [
      "/anaconda/lib/python2.7/site-packages/pandas/core/reshape/merge.py:551: UserWarning: merging between different levels can give an unintended result (2 levels on the left, 1 on the right)\n",
      "  warnings.warn(msg, UserWarning)\n"
     ]
    }
   ],
   "source": [
    "## adding the  the minimum time, std  and average for each player in the training set\n",
    "dataset1 = pd.merge(timedetails,dataset2,on = \"RunnerID\",how = \"right\")"
   ]
  },
  {
   "cell_type": "code",
   "execution_count": 9,
   "metadata": {
    "collapsed": true
   },
   "outputs": [],
   "source": [
    "## adding the min time and average time for each player in validation set\n",
    "validation1 = pd.merge(timedetails,validation,on = \"RunnerID\",how = \"right\")\n",
    "validation1.to_csv(\"/Users/VP/Downloads/validationRunner.csv\")\n",
    "dataset1.to_csv(\"/Users/VP/Downloads/datasetRunner.csv\")"
   ]
  },
  {
   "cell_type": "markdown",
   "metadata": {},
   "source": [
    "#### -----End - data preparation step---"
   ]
  },
  {
   "cell_type": "markdown",
   "metadata": {},
   "source": [
    "### Start the prediction from here"
   ]
  },
  {
   "cell_type": "code",
   "execution_count": 17,
   "metadata": {
    "collapsed": true
   },
   "outputs": [],
   "source": [
    "## loading the data\n",
    "validation = pd.read_csv(\"/Users/VP/Downloads/validationRunner.csv\")\n",
    "dataset = pd.read_csv(\"/Users/VP/Downloads/datasetRunner.csv\")"
   ]
  },
  {
   "cell_type": "markdown",
   "metadata": {},
   "source": [
    "##### filtering  the features required for prediction"
   ]
  },
  {
   "cell_type": "code",
   "execution_count": 18,
   "metadata": {
    "collapsed": true
   },
   "outputs": [],
   "source": [
    "### fixing the columns to use for prediction\n",
    "##cols = ['Classification_cat','time_sec_min','time_sec_mean','time_sec_std']\n",
    "cols = ['Classification_cat','time_sec_min','time_sec_mean','time_sec_std','Temp_Celcius','ELEVATION' , 'Dew_Point_Celc']"
   ]
  },
  {
   "cell_type": "markdown",
   "metadata": {},
   "source": [
    "Imputing the dataset,missing values and conversion of categorical variables. "
   ]
  },
  {
   "cell_type": "code",
   "execution_count": 19,
   "metadata": {
    "collapsed": true
   },
   "outputs": [],
   "source": [
    "## filling in the null values and converting the elevation and dew point as categories\n",
    "dataset.Temp_Celcius.fillna(dataset['Temp_Celcius'].mean(),inplace =True)\n",
    "from sklearn import preprocessing\n",
    "dataset['Elevation_Cat'] = dataset['Elevation_Cat'].astype(\"category\")\n",
    "dataset['Dew_Point_Cat'] = dataset['Dew_Point_Cat'].astype(\"category\")\n",
    "dataset.ELEVATION.fillna(dataset['ELEVATION'].mean(),inplace =True)\n",
    "dataset.Dew_Point_Celc.fillna(dataset['Dew_Point_Celc'].mean(),inplace =True)\n",
    "## convert region in NC to a categorical variable\n",
    "dataset['RegioninNC'] = dataset['RegioninNC'].astype(\"category\")\n",
    "dataset['RegioninNC_cat'] = dataset['RegioninNC'].cat.codes\n",
    "dataset.RegioninNC_cat.fillna(1,inplace =True)\n",
    "## convert classfication to a categorical variable\n",
    "dataset.Dew_Point_Cat.fillna(2,inplace =True)\n",
    "## converting runnerid as category\n",
    "dataset['RunnerID'] = dataset['RunnerID'].astype(\"category\")\n",
    "# Training data\n",
    "X = dataset[cols]\n",
    "## Training label \n",
    "y = dataset[['time_sec']]\n",
    "## standardizing the data in the training set ( It does not produce much effect though!)\n",
    "standardized_X = preprocessing.scale(X)\n"
   ]
  },
  {
   "cell_type": "markdown",
   "metadata": {},
   "source": [
    "Fitting the linear model"
   ]
  },
  {
   "cell_type": "code",
   "execution_count": 20,
   "metadata": {
    "collapsed": true
   },
   "outputs": [],
   "source": [
    "## fitting the linear model\n",
    "lm = linear_model.LinearRegression()\n",
    "model = lm.fit(X,y)\n"
   ]
  },
  {
   "cell_type": "code",
   "execution_count": 43,
   "metadata": {
    "collapsed": true
   },
   "outputs": [],
   "source": [
    "## making changes in the elevation and category values \n",
    "validation.Temp_Celcius.fillna(validation['Temp_Celcius'].mean(),inplace =True)\n",
    "validation['Classification_cat'] = validation['Classification_cat'].astype(\"category\")\n",
    "validation['Elevation_Cat'] = validation['Elevation_Cat'].astype(\"category\")\n",
    "validation['Dew_Point_Cat'] = validation['Dew_Point_Cat'].astype(\"category\")\n",
    "## region in NC to category\n",
    "validation['RegioninNC'] = validation['RegioninNC'].astype(\"category\")\n",
    "validation['RegioninNC_cat'] = validation['RegioninNC'].cat.codes\n",
    "validation.RegioninNC_cat.fillna(1,inplace =True)\n",
    "# use the same columns as that of the training dataset. \n",
    "validation[cols]\n",
    "validation.ELEVATION.fillna(validation['ELEVATION'].mean(),inplace =True)\n",
    "validation.Dew_Point_Celc.fillna(validation['Dew_Point_Celc'].mean(),inplace =True)\n",
    "validation['RunnerID'] = validation['RunnerID'].astype(\"category\")\n"
   ]
  },
  {
   "cell_type": "code",
   "execution_count": 22,
   "metadata": {},
   "outputs": [
    {
     "data": {
      "text/plain": [
       "array([[-1.1876687 ,  0.01427867,  0.95235025,  0.01767753,  2.86575491,\n",
       "         0.03912429,  1.7107198 ]])"
      ]
     },
     "execution_count": 22,
     "metadata": {},
     "output_type": "execute_result"
    }
   ],
   "source": [
    "## printing  equation coefficients. \n",
    "lm.coef_\n",
    "#cols = ['RunnerID','Classification_cat','time_sec_min','time_sec_mean','time_sec_std','Temp_Celcius','ELEVATION' , 'Dew_Point_Celc']"
   ]
  },
  {
   "cell_type": "markdown",
   "metadata": {},
   "source": [
    "predicting the data for test data (NCRunners Elite XC invitational)"
   ]
  },
  {
   "cell_type": "code",
   "execution_count": 23,
   "metadata": {},
   "outputs": [
    {
     "name": "stderr",
     "output_type": "stream",
     "text": [
      "/anaconda/lib/python2.7/site-packages/sklearn/preprocessing/data.py:177: UserWarning: Numerical issues were encountered when scaling the data and might not be solved. The standard deviation of the data is probably very close to 0. \n",
      "  warnings.warn(\"Numerical issues were encountered \"\n"
     ]
    },
    {
     "data": {
      "text/html": [
       "<div>\n",
       "<style>\n",
       "    .dataframe thead tr:only-child th {\n",
       "        text-align: right;\n",
       "    }\n",
       "\n",
       "    .dataframe thead th {\n",
       "        text-align: left;\n",
       "    }\n",
       "\n",
       "    .dataframe tbody tr th {\n",
       "        vertical-align: top;\n",
       "    }\n",
       "</style>\n",
       "<table border=\"1\" class=\"dataframe\">\n",
       "  <thead>\n",
       "    <tr style=\"text-align: right;\">\n",
       "      <th></th>\n",
       "      <th>RunnerID</th>\n",
       "      <th>time_sec</th>\n",
       "      <th>predicted_time_sec</th>\n",
       "    </tr>\n",
       "  </thead>\n",
       "  <tbody>\n",
       "    <tr>\n",
       "      <th>700</th>\n",
       "      <td>5610202</td>\n",
       "      <td>1126.0</td>\n",
       "      <td>1222.815407</td>\n",
       "    </tr>\n",
       "    <tr>\n",
       "      <th>701</th>\n",
       "      <td>5652319</td>\n",
       "      <td>1058.5</td>\n",
       "      <td>1023.148269</td>\n",
       "    </tr>\n",
       "    <tr>\n",
       "      <th>702</th>\n",
       "      <td>5722437</td>\n",
       "      <td>1042.6</td>\n",
       "      <td>1084.906485</td>\n",
       "    </tr>\n",
       "    <tr>\n",
       "      <th>703</th>\n",
       "      <td>6319431</td>\n",
       "      <td>1088.3</td>\n",
       "      <td>1108.866299</td>\n",
       "    </tr>\n",
       "    <tr>\n",
       "      <th>704</th>\n",
       "      <td>6319441</td>\n",
       "      <td>1091.2</td>\n",
       "      <td>1126.331876</td>\n",
       "    </tr>\n",
       "  </tbody>\n",
       "</table>\n",
       "</div>"
      ],
      "text/plain": [
       "    RunnerID  time_sec  predicted_time_sec\n",
       "700  5610202    1126.0         1222.815407\n",
       "701  5652319    1058.5         1023.148269\n",
       "702  5722437    1042.6         1084.906485\n",
       "703  6319431    1088.3         1108.866299\n",
       "704  6319441    1091.2         1126.331876"
      ]
     },
     "execution_count": 23,
     "metadata": {},
     "output_type": "execute_result"
    }
   ],
   "source": [
    "## predicting the validation data\n",
    "X_new = validation[cols]\n",
    "standardized_X_new = preprocessing.scale(X_new)\n",
    "predictions = lm.predict(X_new)\n",
    "## to see the difference between the actual and predicted times\n",
    "len(predictions)\n",
    "prediction_df = pd.DataFrame(predictions)\n",
    "prediction_df = prediction_df.rename(columns = {0 : \"predicted_time_sec\"})\n",
    "prediction_df\n",
    "validation\n",
    "frames = [validation, prediction_df]\n",
    "result = pd.concat(frames,axis=1)\n",
    "result[['RunnerID','time_sec','predicted_time_sec']].tail()"
   ]
  },
  {
   "cell_type": "code",
   "execution_count": 24,
   "metadata": {},
   "outputs": [
    {
     "data": {
      "text/plain": [
       "0.76436504517808168"
      ]
     },
     "execution_count": 24,
     "metadata": {},
     "output_type": "execute_result"
    }
   ],
   "source": [
    "## calculating score\n",
    "from sklearn.metrics import r2_score\n",
    "Y_true = validation['time_sec']\n",
    "Y_pred = predictions\n",
    "lm.score(X,y)"
   ]
  },
  {
   "cell_type": "code",
   "execution_count": 25,
   "metadata": {
    "collapsed": true
   },
   "outputs": [],
   "source": [
    "test1 = result[\"time_sec\"].values\n",
    "test2 = result[\"predicted_time_sec\"].values\n",
    "test3 = test1 - test2\n",
    "\n",
    "\n",
    "#976.68314568536516\n",
    "#result[result['time_sec'] == a]"
   ]
  },
  {
   "cell_type": "markdown",
   "metadata": {},
   "source": [
    "##### Calculating top  7 champions in the meet"
   ]
  },
  {
   "cell_type": "code",
   "execution_count": 26,
   "metadata": {},
   "outputs": [
    {
     "data": {
      "text/plain": [
       "school\n",
       "North Raleigh Christian Academy     976.590000\n",
       "Cleveland High School               986.950000\n",
       "Cape Fear                           994.400000\n",
       "Weddington High School              999.357143\n",
       "Brevard                            1001.000000\n",
       "Forbush                            1009.500000\n",
       "Green Hope                         1013.000000\n",
       "Name: time_sec, dtype: float64"
      ]
     },
     "execution_count": 26,
     "metadata": {},
     "output_type": "execute_result"
    }
   ],
   "source": [
    "## actual Top 7 teams \n",
    "smallestTime = pd.DataFrame(result.groupby(['school'])['time_sec'].nsmallest(7)).reset_index()\n",
    "smallestTimeAvg = pd.DataFrame(smallestTime.groupby('school')['time_sec'].mean())\n",
    "smallestTimeAvg.time_sec.nsmallest(7)\n"
   ]
  },
  {
   "cell_type": "code",
   "execution_count": 27,
   "metadata": {},
   "outputs": [
    {
     "data": {
      "text/plain": [
       "school\n",
       "Cape Fear                           982.426271\n",
       "North Raleigh Christian Academy     987.288948\n",
       "Cleveland High School              1000.929875\n",
       "Brevard                            1001.845824\n",
       "Forbush                            1016.811339\n",
       "East Chapel Hill                   1028.285608\n",
       "Weddington High School             1030.408053\n",
       "Name: predicted_time_sec, dtype: float64"
      ]
     },
     "execution_count": 27,
     "metadata": {},
     "output_type": "execute_result"
    }
   ],
   "source": [
    "# predicted top 7 teams\n",
    "smallestTime = pd.DataFrame(result.groupby(['school'])['predicted_time_sec'].nsmallest(7)).reset_index()\n",
    "smallestTimeAvg = pd.DataFrame(smallestTime.groupby('school')['predicted_time_sec'].mean())\n",
    "smallestTimeAvg.predicted_time_sec.nsmallest(7)"
   ]
  },
  {
   "cell_type": "code",
   "execution_count": 28,
   "metadata": {},
   "outputs": [
    {
     "data": {
      "image/png": "[encoded data removed]",
      "text/plain": [
       "<matplotlib.figure.Figure at 0x117393690>"
      ]
     },
     "metadata": {},
     "output_type": "display_data"
    }
   ],
   "source": [
    "import matplotlib.pyplot as plt\n",
    "plt.clf\n",
    "plt.title(\"Predicted vs Actual values\")\n",
    "plt.plot(X_new.index.values, Y_true,  color='green', label = \"actual time\")\n",
    "plt.plot(X_new.index.values, Y_pred, color='red',label = \"predicted time\")\n",
    "X_new1 = pd.DataFrame(X_new.index.values)\n",
    "k = np.array(X_new1)\n",
    "Y = pd.DataFrame(Y_pred)\n",
    "Y1 = np.array(Y[0])\n",
    "plt.legend()\n",
    "plt.xlabel(\"Students index\")\n",
    "plt.ylabel(\"Time in Sec\")\n",
    "plt.rcParams['figure.figsize'] = (10,6)\n",
    "plt.fill_between( X_new.index.values, Y1, Y_true , color = 'gold',alpha = 1)\n",
    "plt.show()"
   ]
  },
  {
   "cell_type": "code",
   "execution_count": 29,
   "metadata": {
    "scrolled": true
   },
   "outputs": [
    {
     "name": "stderr",
     "output_type": "stream",
     "text": [
      "/anaconda/lib/python2.7/site-packages/matplotlib/axes/_axes.py:545: UserWarning: No labelled objects found. Use label='...' kwarg on individual plots.\n",
      "  warnings.warn(\"No labelled objects found. \"\n"
     ]
    },
    {
     "data": {
      "image/png": "[encoded data removed]",
      "text/plain": [
       "<matplotlib.figure.Figure at 0x11a007810>"
      ]
     },
     "metadata": {},
     "output_type": "display_data"
    }
   ],
   "source": [
    "import seaborn as sns\n",
    "plt.clf\n",
    "plt.legend()\n",
    "plt.title(\"Predictions for NCRunners Elite Cross Country Invitational on 10/10/15\")\n",
    "plt.xlabel(\"Actual time\")\n",
    "plt.ylabel(\"Predicted time\")\n",
    "plt.rcParams['figure.figsize'] = (10,6)\n",
    "plt.plot(Y_true, Y_pred,'co')\n",
    "#sns.regplot(x=\"time_sec\", y=\"predicted_time_sec\", data=result,color='g');\n",
    "plt.show()"
   ]
  },
  {
   "cell_type": "code",
   "execution_count": 30,
   "metadata": {},
   "outputs": [
    {
     "data": {
      "text/plain": [
       "array([  6.12308256e-03,   7.08159948e-01,   1.00000000e+00,\n",
       "         1.18692768e-01,   3.15962793e-02,   2.70929110e-04,\n",
       "         1.97268314e-02])"
      ]
     },
     "execution_count": 30,
     "metadata": {},
     "output_type": "execute_result"
    }
   ],
   "source": [
    "from sklearn.feature_selection import f_regression\n",
    "f_test, _ = f_regression(X,dataset['time_sec'])\n",
    "f_test /= np.max(f_test)\n",
    "f_test\n"
   ]
  },
  {
   "cell_type": "code",
   "execution_count": 31,
   "metadata": {},
   "outputs": [
    {
     "data": {
      "text/plain": [
       "['Classification_cat',\n",
       " 'time_sec_min',\n",
       " 'time_sec_mean',\n",
       " 'time_sec_std',\n",
       " 'Temp_Celcius',\n",
       " 'ELEVATION',\n",
       " 'Dew_Point_Celc']"
      ]
     },
     "execution_count": 31,
     "metadata": {},
     "output_type": "execute_result"
    }
   ],
   "source": [
    "cols"
   ]
  },
  {
   "cell_type": "markdown",
   "metadata": {},
   "source": [
    "## MODEL 2 - using OLS "
   ]
  },
  {
   "cell_type": "code",
   "execution_count": 32,
   "metadata": {
    "collapsed": true
   },
   "outputs": [],
   "source": [
    "## this model is to get the summary format of the model\n",
    "import pandas as pd\n",
    "import statsmodels.formula.api as sm\n",
    "import statsmodels.regression.linear_model as ols"
   ]
  },
  {
   "cell_type": "code",
   "execution_count": 33,
   "metadata": {
    "collapsed": true
   },
   "outputs": [],
   "source": [
    "#df = pd.DataFrame({\"A\": [10,20,30,40,50], \"B\": [20, 30, 10, 40, 50], \"C\": [32, 234, 23, 23, 42523]})\n",
    "result = sm.ols(formula= \"time_sec ~ time_sec_mean + time_sec_std + Temp_Celcius + ELEVATION + Dew_Point_Celc \" , data=dataset).fit()\n",
    "#result = sm.ols(formula= \"time_sec ~  Classification_cat  + time_sec_mean + time_sec_std+ Temp_Celcius    \", data=dataset).fit()"
   ]
  },
  {
   "cell_type": "code",
   "execution_count": 44,
   "metadata": {
    "collapsed": true,
    "scrolled": true
   },
   "outputs": [],
   "source": [
    "y_hat_no_int = result.predict(validation[cols])"
   ]
  },
  {
   "cell_type": "code",
   "execution_count": 35,
   "metadata": {},
   "outputs": [
    {
     "data": {
      "text/plain": [
       "0.76432464576264159"
      ]
     },
     "execution_count": 35,
     "metadata": {},
     "output_type": "execute_result"
    }
   ],
   "source": [
    "result.rsquared"
   ]
  },
  {
   "cell_type": "code",
   "execution_count": 36,
   "metadata": {},
   "outputs": [
    {
     "data": {
      "text/plain": [
       "Intercept        -54.101429\n",
       "time_sec_mean      0.965985\n",
       "time_sec_std       0.008456\n",
       "Temp_Celcius       2.855936\n",
       "ELEVATION          0.039978\n",
       "Dew_Point_Celc     1.710891\n",
       "dtype: float64"
      ]
     },
     "execution_count": 36,
     "metadata": {},
     "output_type": "execute_result"
    }
   ],
   "source": [
    "result.params"
   ]
  },
  {
   "cell_type": "code",
   "execution_count": 37,
   "metadata": {},
   "outputs": [
    {
     "data": {
      "text/plain": [
       "Intercept          1.211688e-75\n",
       "time_sec_mean      0.000000e+00\n",
       "time_sec_std       3.151503e-01\n",
       "Temp_Celcius       0.000000e+00\n",
       "ELEVATION          7.347303e-97\n",
       "Dew_Point_Celc    1.315523e-150\n",
       "dtype: float64"
      ]
     },
     "execution_count": 37,
     "metadata": {},
     "output_type": "execute_result"
    }
   ],
   "source": [
    "result.pvalues"
   ]
  },
  {
   "cell_type": "markdown",
   "metadata": {},
   "source": [
    "### Regression Summary"
   ]
  },
  {
   "cell_type": "code",
   "execution_count": 39,
   "metadata": {},
   "outputs": [
    {
     "data": {
      "text/html": [
       "<table class=\"simpletable\">\n",
       "<caption>OLS Regression Results</caption>\n",
       "<tr>\n",
       "  <th>Dep. Variable:</th>        <td>time_sec</td>     <th>  R-squared:         </th>  <td>   0.764</td>  \n",
       "</tr>\n",
       "<tr>\n",
       "  <th>Model:</th>                   <td>OLS</td>       <th>  Adj. R-squared:    </th>  <td>   0.764</td>  \n",
       "</tr>\n",
       "<tr>\n",
       "  <th>Method:</th>             <td>Least Squares</td>  <th>  F-statistic:       </th>  <td>4.774e+04</td> \n",
       "</tr>\n",
       "<tr>\n",
       "  <th>Date:</th>             <td>Wed, 09 Aug 2017</td> <th>  Prob (F-statistic):</th>   <td>  0.00</td>   \n",
       "</tr>\n",
       "<tr>\n",
       "  <th>Time:</th>                 <td>22:52:07</td>     <th>  Log-Likelihood:    </th> <td>-4.2930e+05</td>\n",
       "</tr>\n",
       "<tr>\n",
       "  <th>No. Observations:</th>      <td> 73613</td>      <th>  AIC:               </th>  <td>8.586e+05</td> \n",
       "</tr>\n",
       "<tr>\n",
       "  <th>Df Residuals:</th>          <td> 73607</td>      <th>  BIC:               </th>  <td>8.587e+05</td> \n",
       "</tr>\n",
       "<tr>\n",
       "  <th>Df Model:</th>              <td>     5</td>      <th>                     </th>      <td> </td>     \n",
       "</tr>\n",
       "<tr>\n",
       "  <th>Covariance Type:</th>      <td>nonrobust</td>    <th>                     </th>      <td> </td>     \n",
       "</tr>\n",
       "</table>\n",
       "<table class=\"simpletable\">\n",
       "<tr>\n",
       "         <td></td>           <th>coef</th>     <th>std err</th>      <th>t</th>      <th>P>|t|</th>  <th>[0.025</th>    <th>0.975]</th>  \n",
       "</tr>\n",
       "<tr>\n",
       "  <th>Intercept</th>      <td>  -54.1014</td> <td>    2.936</td> <td>  -18.426</td> <td> 0.000</td> <td>  -59.856</td> <td>  -48.346</td>\n",
       "</tr>\n",
       "<tr>\n",
       "  <th>time_sec_mean</th>  <td>    0.9660</td> <td>    0.003</td> <td>  371.354</td> <td> 0.000</td> <td>    0.961</td> <td>    0.971</td>\n",
       "</tr>\n",
       "<tr>\n",
       "  <th>time_sec_std</th>   <td>    0.0085</td> <td>    0.008</td> <td>    1.004</td> <td> 0.315</td> <td>   -0.008</td> <td>    0.025</td>\n",
       "</tr>\n",
       "<tr>\n",
       "  <th>Temp_Celcius</th>   <td>    2.8559</td> <td>    0.069</td> <td>   41.153</td> <td> 0.000</td> <td>    2.720</td> <td>    2.992</td>\n",
       "</tr>\n",
       "<tr>\n",
       "  <th>ELEVATION</th>      <td>    0.0400</td> <td>    0.002</td> <td>   20.916</td> <td> 0.000</td> <td>    0.036</td> <td>    0.044</td>\n",
       "</tr>\n",
       "<tr>\n",
       "  <th>Dew_Point_Celc</th> <td>    1.7109</td> <td>    0.065</td> <td>   26.200</td> <td> 0.000</td> <td>    1.583</td> <td>    1.839</td>\n",
       "</tr>\n",
       "</table>\n",
       "<table class=\"simpletable\">\n",
       "<tr>\n",
       "  <th>Omnibus:</th>       <td>48644.229</td> <th>  Durbin-Watson:     </th>  <td>   1.498</td>  \n",
       "</tr>\n",
       "<tr>\n",
       "  <th>Prob(Omnibus):</th>  <td> 0.000</td>   <th>  Jarque-Bera (JB):  </th> <td>2958085.756</td>\n",
       "</tr>\n",
       "<tr>\n",
       "  <th>Skew:</th>           <td> 2.504</td>   <th>  Prob(JB):          </th>  <td>    0.00</td>  \n",
       "</tr>\n",
       "<tr>\n",
       "  <th>Kurtosis:</th>       <td>33.649</td>   <th>  Cond. No.          </th>  <td>1.21e+04</td>  \n",
       "</tr>\n",
       "</table>"
      ],
      "text/plain": [
       "<class 'statsmodels.iolib.summary.Summary'>\n",
       "\"\"\"\n",
       "                            OLS Regression Results                            \n",
       "==============================================================================\n",
       "Dep. Variable:               time_sec   R-squared:                       0.764\n",
       "Model:                            OLS   Adj. R-squared:                  0.764\n",
       "Method:                 Least Squares   F-statistic:                 4.774e+04\n",
       "Date:                Wed, 09 Aug 2017   Prob (F-statistic):               0.00\n",
       "Time:                        22:52:07   Log-Likelihood:            -4.2930e+05\n",
       "No. Observations:               73613   AIC:                         8.586e+05\n",
       "Df Residuals:                   73607   BIC:                         8.587e+05\n",
       "Df Model:                           5                                         \n",
       "Covariance Type:            nonrobust                                         \n",
       "==================================================================================\n",
       "                     coef    std err          t      P>|t|      [0.025      0.975]\n",
       "----------------------------------------------------------------------------------\n",
       "Intercept        -54.1014      2.936    -18.426      0.000     -59.856     -48.346\n",
       "time_sec_mean      0.9660      0.003    371.354      0.000       0.961       0.971\n",
       "time_sec_std       0.0085      0.008      1.004      0.315      -0.008       0.025\n",
       "Temp_Celcius       2.8559      0.069     41.153      0.000       2.720       2.992\n",
       "ELEVATION          0.0400      0.002     20.916      0.000       0.036       0.044\n",
       "Dew_Point_Celc     1.7109      0.065     26.200      0.000       1.583       1.839\n",
       "==============================================================================\n",
       "Omnibus:                    48644.229   Durbin-Watson:                   1.498\n",
       "Prob(Omnibus):                  0.000   Jarque-Bera (JB):          2958085.756\n",
       "Skew:                           2.504   Prob(JB):                         0.00\n",
       "Kurtosis:                      33.649   Cond. No.                     1.21e+04\n",
       "==============================================================================\n",
       "\n",
       "Warnings:\n",
       "[1] Standard Errors assume that the covariance matrix of the errors is correctly specified.\n",
       "[2] The condition number is large, 1.21e+04. This might indicate that there are\n",
       "strong multicollinearity or other numerical problems.\n",
       "\"\"\""
      ]
     },
     "execution_count": 39,
     "metadata": {},
     "output_type": "execute_result"
    }
   ],
   "source": [
    "result.summary()"
   ]
  },
  {
   "cell_type": "code",
   "execution_count": 46,
   "metadata": {},
   "outputs": [
    {
     "data": {
      "text/plain": [
       "367"
      ]
     },
     "execution_count": 46,
     "metadata": {},
     "output_type": "execute_result"
    }
   ],
   "source": [
    "len(dataset.school.unique().tolist())"
   ]
  },
  {
   "cell_type": "code",
   "execution_count": 47,
   "metadata": {},
   "outputs": [
    {
     "data": {
      "text/plain": [
       "73613"
      ]
     },
     "execution_count": 47,
     "metadata": {},
     "output_type": "execute_result"
    }
   ],
   "source": [
    "len(dataset.ID.unique().tolist())"
   ]
  },
  {
   "cell_type": "code",
   "execution_count": null,
   "metadata": {
    "collapsed": true
   },
   "outputs": [],
   "source": []
  }
 ],
 "metadata": {
  "kernelspec": {
   "display_name": "Python 3",
   "language": "python",
   "name": "python3"
  },
  "language_info": {
   "codemirror_mode": {
    "name": "ipython",
    "version": 3
   },
   "file_extension": ".py",
   "mimetype": "text/x-python",
   "name": "python",
   "nbconvert_exporter": "python",
   "pygments_lexer": "ipython3",
   "version": "3.6.1"
  }
 },
 "nbformat": 4,
 "nbformat_minor": 2
}
